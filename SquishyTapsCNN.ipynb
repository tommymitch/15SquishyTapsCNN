{
 "cells": [
  {
   "cell_type": "code",
   "execution_count": 20,
   "id": "04dc3568-3821-4878-bc81-9a780891fe81",
   "metadata": {},
   "outputs": [],
   "source": [
    "import numpy as np\n",
    "import matplotlib.pyplot as plt"
   ]
  },
  {
   "cell_type": "code",
   "execution_count": 165,
   "id": "b80bd1fc-62c0-4d91-a665-29f42b3ef30c",
   "metadata": {},
   "outputs": [
    {
     "name": "stdout",
     "output_type": "stream",
     "text": [
      "72\n"
     ]
    }
   ],
   "source": [
    "def readucr(filename):\n",
    "    data = np.loadtxt(filename, delimiter=\",\")\n",
    "    y = data[:, 0]\n",
    "    x = data[:, 1:]\n",
    "    return x, y.astype(int)\n",
    "\n",
    "\n",
    "xdataset, ydataset = readucr(\"numbersSoftMediumHard.csv\")\n",
    "\n",
    "xdataset = np.array([x[:4836] for x in xdataset])\n",
    "\n",
    "print(len(xdataset))\n"
   ]
  },
  {
   "cell_type": "markdown",
   "id": "1d93a7eb-d0aa-46a4-a54e-5f4d5acb026c",
   "metadata": {},
   "source": [
    "# 0 is soft and 1 is medium and 2 is hard data length is 4832"
   ]
  },
  {
   "cell_type": "code",
   "execution_count": 167,
   "id": "a2f0b440-1867-4439-a19a-fd6defdeae4c",
   "metadata": {},
   "outputs": [
    {
     "data": {
      "image/png": "[encoded data removed]",
      "text/plain": [
       "<Figure size 640x480 with 1 Axes>"
      ]
     },
     "metadata": {},
     "output_type": "display_data"
    }
   ],
   "source": [
    "#plot the first of each class\n",
    "plt.plot(xdataset[ydataset == 0][0], label=\"class 0\")\n",
    "plt.plot(xdataset[ydataset == 1][0], label=\"class 1\")\n",
    "plt.plot(xdataset[ydataset == 2][0], label=\"class 2\")\n",
    "plt.legend(loc=\"best\")\n",
    "plt.show()"
   ]
  },
  {
   "cell_type": "code",
   "execution_count": 216,
   "id": "63799a64-57e9-4cae-9e15-4219750fc736",
   "metadata": {},
   "outputs": [],
   "source": [
    "import torch\n",
    "import torch.nn as nn\n",
    "from torch.utils.data import DataLoader, TensorDataset\n",
    "\n",
    "# Convert to PyTorch tensors (using your new X, y with length=500)\n",
    "X_tensor = torch.FloatTensor(xdataset).unsqueeze(1)  # Shape: [num_samples, 1, 500]\n",
    "y_tensor = torch.LongTensor(ydataset)\n",
    "\n",
    "# Split into train/test (80/20)\n",
    "dataset = TensorDataset(X_tensor, y_tensor)\n",
    "train_size = int(0.8 * len(dataset))\n",
    "test_size = len(dataset) - train_size\n",
    "train_dataset, test_dataset = torch.utils.data.random_split(dataset, [train_size, test_size])\n",
    "\n",
    "# Create data loaders with larger batch size\n",
    "train_loader = DataLoader(train_dataset, batch_size=64, shuffle=True)\n",
    "test_loader = DataLoader(test_dataset, batch_size=64)\n"
   ]
  },
  {
   "cell_type": "code",
   "execution_count": 217,
   "id": "b3f2353f-ee1e-4702-b786-d70bcbb755b2",
   "metadata": {},
   "outputs": [
    {
     "name": "stdout",
     "output_type": "stream",
     "text": [
      "Simple1DCNN1(\n",
      "  (features): Sequential(\n",
      "    (0): Conv1d(1, 32, kernel_size=(15,), stride=(1,), padding=(7,))\n",
      "    (1): BatchNorm1d(32, eps=1e-05, momentum=0.1, affine=True, track_running_stats=True)\n",
      "    (2): ReLU()\n",
      "    (3): MaxPool1d(kernel_size=2, stride=2, padding=0, dilation=1, ceil_mode=False)\n",
      "    (4): Conv1d(32, 64, kernel_size=(7,), stride=(1,), padding=(3,))\n",
      "    (5): BatchNorm1d(64, eps=1e-05, momentum=0.1, affine=True, track_running_stats=True)\n",
      "    (6): ReLU()\n",
      "    (7): MaxPool1d(kernel_size=2, stride=2, padding=0, dilation=1, ceil_mode=False)\n",
      "  )\n",
      "  (classifier): Sequential(\n",
      "    (0): Flatten(start_dim=1, end_dim=-1)\n",
      "    (1): Linear(in_features=77376, out_features=128, bias=True)\n",
      "    (2): ReLU()\n",
      "    (3): Dropout(p=0.3, inplace=False)\n",
      "    (4): Linear(in_features=128, out_features=3, bias=True)\n",
      "  )\n",
      ")\n",
      "\n",
      "Total trainable parameters: 9,919,747\n"
     ]
    }
   ],
   "source": [
    "# 1D CNN model for 500-length sequences\n",
    "class Simple1DCNN1(nn.Module):\n",
    "    def __init__(self):\n",
    "        super().__init__()\n",
    "        self.features = nn.Sequential(\n",
    "            # First block\n",
    "            nn.Conv1d(1, 32, kernel_size=15, padding=7),  # Preserve length (200)\n",
    "            nn.BatchNorm1d(32),\n",
    "            nn.ReLU(),\n",
    "            nn.MaxPool1d(kernel_size=2),  # 4836 -> 2418\n",
    "            \n",
    "            # Second block\n",
    "            nn.Conv1d(32, 64, kernel_size=7, padding=3),  # Preserve length (100)\n",
    "            nn.BatchNorm1d(64),\n",
    "            nn.ReLU(),\n",
    "            nn.MaxPool1d(kernel_size=2),  # 2418 -> 1209\n",
    "\n",
    "        )\n",
    "        \n",
    "        self.classifier = nn.Sequential(\n",
    "            nn.Flatten(),\n",
    "            nn.Linear(64 * 1209, 128),\n",
    "            nn.ReLU(),\n",
    "            nn.Dropout(0.3),\n",
    "            nn.Linear(128, 3)\n",
    "        )\n",
    "        \n",
    "    def forward(self, x):\n",
    "        x = self.features(x)\n",
    "        x = self.classifier(x)\n",
    "        return x\n",
    "\n",
    "model = Simple1DCNN1()\n",
    "print(model)\n",
    "\n",
    "# Calculate total parameters\n",
    "total_params = sum(p.numel() for p in model.parameters())\n",
    "print(f\"\\nTotal trainable parameters: {total_params:,}\")\n",
    "\n",
    "# Improved training setup\n",
    "criterion = nn.CrossEntropyLoss()\n",
    "optimizer = torch.optim.AdamW(model.parameters(), lr=0.001, weight_decay=0.01)\n",
    "scheduler = torch.optim.lr_scheduler.ReduceLROnPlateau(optimizer, 'min', patience=3, factor=0.5)"
   ]
  },
  {
   "cell_type": "code",
   "execution_count": 226,
   "id": "92efb88b-2b31-4e9f-b985-24f94188c622",
   "metadata": {},
   "outputs": [
    {
     "name": "stdout",
     "output_type": "stream",
     "text": [
      "Epoch 1, Loss: 0.0028, Acc: 100.00%\n",
      "Epoch 2, Loss: 0.0021, Acc: 100.00%\n",
      "Epoch 3, Loss: 0.0038, Acc: 100.00%\n",
      "Epoch 4, Loss: 0.0036, Acc: 100.00%\n",
      "Epoch 5, Loss: 0.0035, Acc: 100.00%\n",
      "Epoch 6, Loss: 0.0028, Acc: 100.00%\n",
      "Epoch 7, Loss: 0.0011, Acc: 100.00%\n",
      "Epoch 8, Loss: 0.0021, Acc: 100.00%\n",
      "Epoch 9, Loss: 0.0038, Acc: 100.00%\n",
      "Epoch 10, Loss: 0.0011, Acc: 100.00%\n"
     ]
    }
   ],
   "source": [
    "# Training loop\n",
    "num_epochs = 10\n",
    "\n",
    "for epoch in range(num_epochs):\n",
    "    model.train()\n",
    "    running_loss = 0.0\n",
    "    correct = 0\n",
    "    total = 0\n",
    "    \n",
    "    for inputs, labels in train_loader:\n",
    "        optimizer.zero_grad()\n",
    "        outputs = model(inputs)\n",
    "        loss = criterion(outputs, labels)\n",
    "        loss.backward()\n",
    "        optimizer.step()\n",
    "        \n",
    "        _, predicted = torch.max(outputs.data, 1)\n",
    "        total += labels.size(0)\n",
    "        correct += (predicted == labels).sum().item()\n",
    "        running_loss += loss.item()\n",
    "    \n",
    "    train_acc = 100 * correct / total\n",
    "    print(f'Epoch {epoch+1}, Loss: {running_loss/len(train_loader):.4f}, Acc: {train_acc:.2f}%')"
   ]
  },
  {
   "cell_type": "code",
   "execution_count": 228,
   "id": "3d92ae89-fbf3-4735-940f-99b5b3cb33b1",
   "metadata": {},
   "outputs": [
    {
     "name": "stdout",
     "output_type": "stream",
     "text": [
      "tensor([0, 1, 0, 0, 1, 1, 1, 1, 0, 2, 1, 2, 0, 0, 1])\n",
      "Loss: 0.0011 | Acc: 93.33%\n"
     ]
    }
   ],
   "source": [
    "total = 0\n",
    "correct = 0\n",
    "\n",
    "model.eval()\n",
    "\n",
    "for batch in test_loader:\n",
    "    # Explicitly unpack data and labels (handles both tuple and tensor cases)\n",
    "    datas, labels = batch  \n",
    "    print(labels)\n",
    "    \n",
    "    # Convert labels to tensor if they aren't already\n",
    "    if isinstance(labels, tuple):\n",
    "        labels = labels.float().unsqueeze(1)  # Convert labels to float and reshape to (batch_size, 1)\n",
    "        # labels = torch.tensor(labels[0])  # Take first element if labels is a tuple\n",
    "    \n",
    "    # Ensure proper type\n",
    "    labels = labels.long()  # Convert to long integers\n",
    "    \n",
    "    outputs = model(datas)\n",
    "    \n",
    "    # Calculate accuracy\n",
    "    _, predicted = torch.max(outputs.data, 1)\n",
    "    total += labels.size(0)\n",
    "    correct += (predicted == labels).sum().item()\n",
    "    \n",
    "    print(f'Loss: {loss.item():.4f} | Acc: {100*correct/total:.2f}%')"
   ]
  },
  {
   "cell_type": "code",
   "execution_count": 45,
   "id": "3819a9d8-caec-4c02-8bdb-bb3d75ab0643",
   "metadata": {},
   "outputs": [],
   "source": [
    "model_scripted = torch.jit.script(model) # Export to TorchScript\n",
    "model_scripted.save('model_scripted.pt') # Save"
   ]
  },
  {
   "cell_type": "code",
   "execution_count": 118,
   "id": "ba0ad680-0e2a-4900-9cce-e47dfd7b025a",
   "metadata": {},
   "outputs": [
    {
     "data": {
      "text/plain": [
       "RecursiveScriptModule(\n",
       "  original_name=Simple1DCNN1\n",
       "  (features): RecursiveScriptModule(\n",
       "    original_name=Sequential\n",
       "    (0): RecursiveScriptModule(original_name=Conv1d)\n",
       "    (1): RecursiveScriptModule(original_name=BatchNorm1d)\n",
       "    (2): RecursiveScriptModule(original_name=ReLU)\n",
       "    (3): RecursiveScriptModule(original_name=MaxPool1d)\n",
       "    (4): RecursiveScriptModule(original_name=Conv1d)\n",
       "    (5): RecursiveScriptModule(original_name=BatchNorm1d)\n",
       "    (6): RecursiveScriptModule(original_name=ReLU)\n",
       "    (7): RecursiveScriptModule(original_name=MaxPool1d)\n",
       "  )\n",
       "  (classifier): RecursiveScriptModule(\n",
       "    original_name=Sequential\n",
       "    (0): RecursiveScriptModule(original_name=Flatten)\n",
       "    (1): RecursiveScriptModule(original_name=Linear)\n",
       "    (2): RecursiveScriptModule(original_name=ReLU)\n",
       "    (3): RecursiveScriptModule(original_name=Dropout)\n",
       "    (4): RecursiveScriptModule(original_name=Linear)\n",
       "  )\n",
       ")"
      ]
     },
     "execution_count": 118,
     "metadata": {},
     "output_type": "execute_result"
    }
   ],
   "source": [
    "model = torch.jit.load('model_scripted.pt')\n",
    "model.eval()"
   ]
  },
  {
   "cell_type": "code",
   "execution_count": 137,
   "id": "fdebe986-47bf-46b7-9d52-637e2597addb",
   "metadata": {},
   "outputs": [],
   "source": [
    "from sklearn.metrics import confusion_matrix, classification_report\n",
    "import seaborn\n",
    "from sklearn.metrics import accuracy_score"
   ]
  },
  {
   "cell_type": "code",
   "execution_count": 229,
   "id": "6fe3bb52-fc93-4133-be7a-ce39d87038d9",
   "metadata": {},
   "outputs": [
    {
     "name": "stdout",
     "output_type": "stream",
     "text": [
      "              precision    recall  f1-score   support\n",
      "\n",
      "           0       1.00      0.83      0.91         6\n",
      "           1       0.88      1.00      0.93         7\n",
      "           2       1.00      1.00      1.00         2\n",
      "\n",
      "    accuracy                           0.93        15\n",
      "   macro avg       0.96      0.94      0.95        15\n",
      "weighted avg       0.94      0.93      0.93        15\n",
      "\n"
     ]
    }
   ],
   "source": [
    "print(classification_report(labels,predicted))\n"
   ]
  },
  {
   "cell_type": "code",
   "execution_count": 230,
   "id": "eb5f064f-b6a3-4d80-972b-980d7ec03596",
   "metadata": {},
   "outputs": [
    {
     "data": {
      "image/png": "[encoded data removed]",
      "text/plain": [
       "<Figure size 1000x1000 with 2 Axes>"
      ]
     },
     "metadata": {},
     "output_type": "display_data"
    },
    {
     "name": "stdout",
     "output_type": "stream",
     "text": [
      "tensor([0, 1, 0, 0, 1, 1, 1, 1, 0, 2, 1, 2, 0, 1, 1])\n",
      "0.9333333333333333\n"
     ]
    }
   ],
   "source": [
    "matrix = confusion_matrix(labels,predicted,labels=np.unique(labels))\n",
    "plt.figure(figsize=(10,10))\n",
    "seaborn.heatmap(matrix,annot=True, fmt='d', xticklabels=np.unique(labels),yticklabels=np.unique(labels),cmap=\"Greens\")\n",
    "plt.xlabel(\"predicted\")\n",
    "plt.ylabel(\"true\")\n",
    "plt.show()\n",
    "\n",
    "accuracy = accuracy_score(labels, predicted)\n",
    "print(predicted)\n",
    "print(accuracy)"
   ]
  }
 ],
 "metadata": {
  "kernelspec": {
   "display_name": "Python 3 (ipykernel)",
   "language": "python",
   "name": "python3"
  },
  "language_info": {
   "codemirror_mode": {
    "name": "ipython",
    "version": 3
   },
   "file_extension": ".py",
   "mimetype": "text/x-python",
   "name": "python",
   "nbconvert_exporter": "python",
   "pygments_lexer": "ipython3",
   "version": "3.13.3"
  }
 },
 "nbformat": 4,
 "nbformat_minor": 5
}
